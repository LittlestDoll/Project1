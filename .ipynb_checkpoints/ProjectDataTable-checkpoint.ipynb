{
 "cells": [
  {
   "cell_type": "markdown",
   "metadata": {},
   "source": [
    "# Team Unicorn\n",
    "\n",
    "![](http://www.levycreative.com/wp/wp-content/uploads/2015/01/10945748_10152844879967949_5392963414676228818_n.jpg)\n",
    "## Members\n",
    "* Jackie Mcguire\n",
    "* Todd Fox\n",
    "* Jericho Herrera\n",
    "* Nicki Lang"
   ]
  },
  {
   "cell_type": "code",
   "execution_count": 3,
   "metadata": {
    "collapsed": true
   },
   "outputs": [],
   "source": [
    "import matplotlib.pyplot as plt\n",
    "import numpy\n",
    "import pandas as pd\n",
    "from yahoo_quote_download import yqd\n",
    "import os\n"
   ]
  },
  {
   "cell_type": "code",
   "execution_count": 4,
   "metadata": {
    "collapsed": true
   },
   "outputs": [],
   "source": [
    "stocks = pd.read_csv('techiposince2001.csv')\n"
   ]
  },
  {
   "cell_type": "code",
   "execution_count": 5,
   "metadata": {},
   "outputs": [
    {
     "data": {
      "text/plain": [
       "Symbol        object\n",
       "Name          object\n",
       "LastSale     float64\n",
       "MarketCap    float64\n",
       "ADR TSO       object\n",
       "IPOyear       object\n",
       "Sector        object\n",
       "Industry      object\n",
       "dtype: object"
      ]
     },
     "execution_count": 5,
     "metadata": {},
     "output_type": "execute_result"
    }
   ],
   "source": [
    "stocks.dtypes"
   ]
  },
  {
   "cell_type": "code",
   "execution_count": 6,
   "metadata": {
    "collapsed": true
   },
   "outputs": [],
   "source": [
    "stocks = stocks.loc[stocks['ADR TSO'] == 'n/a']\n"
   ]
  },
  {
   "cell_type": "code",
   "execution_count": 7,
   "metadata": {
    "collapsed": true
   },
   "outputs": [],
   "source": [
    "stocks.MarketCap = stocks.MarketCap.apply(lambda x: round(x/10000))\n",
    "stocks.MarketCap = stocks.MarketCap.apply(lambda y: '${:,.0f}'.format(y))"
   ]
  },
  {
   "cell_type": "code",
   "execution_count": 8,
   "metadata": {
    "collapsed": true
   },
   "outputs": [],
   "source": [
    "stocks=stocks.loc[stocks[\"IPOyear\"]!='n/a']\n",
    "stocks=stocks.loc[stocks[\"IPOyear\"].astype(int)>=2000]"
   ]
  },
  {
   "cell_type": "code",
   "execution_count": 9,
   "metadata": {
    "collapsed": true
   },
   "outputs": [],
   "source": [
    "def load_quote(ticker, startdate, enddate):\n",
    "\tprint('===', ticker, '===')\n",
    "\tprint(yqd.load_yahoo_quote(ticker, startdate, enddate))\n",
    "\tprint(yqd.load_yahoo_quote(ticker, startdate, enddate, 'dividend'))\n",
    "\tprint(yqd.load_yahoo_quote(ticker, startdate, enddate, 'split'))\n",
    "def save_quote(ticker, startdate, enddate):\n",
    "    quotecsv = (yqd.load_yahoo_quote(ticker, startdate, enddate))\n",
    "    with open('output.csv', 'a') as myfile:\n",
    "        for row in quotecsv:\n",
    "            myfile.write(row+','+ticker+'\\n')\n",
    "            \n",
    "            \n",
    "def test():\n",
    "\t# Download quote for stocks\n",
    "\tload_quote(ticker, startdate, enddate)\n"
   ]
  },
  {
   "cell_type": "code",
   "execution_count": 13,
   "metadata": {},
   "outputs": [
    {
     "data": {
      "text/html": [
       "<div>\n",
       "<style>\n",
       "    .dataframe thead tr:only-child th {\n",
       "        text-align: right;\n",
       "    }\n",
       "\n",
       "    .dataframe thead th {\n",
       "        text-align: left;\n",
       "    }\n",
       "\n",
       "    .dataframe tbody tr th {\n",
       "        vertical-align: top;\n",
       "    }\n",
       "</style>\n",
       "<table border=\"1\" class=\"dataframe\">\n",
       "  <thead>\n",
       "    <tr style=\"text-align: right;\">\n",
       "      <th></th>\n",
       "      <th>Symbol</th>\n",
       "      <th>Name</th>\n",
       "      <th>LastSale</th>\n",
       "      <th>MarketCap</th>\n",
       "      <th>ADR TSO</th>\n",
       "      <th>IPOyear</th>\n",
       "      <th>Sector</th>\n",
       "      <th>Industry</th>\n",
       "    </tr>\n",
       "  </thead>\n",
       "  <tbody>\n",
       "    <tr>\n",
       "      <th>0</th>\n",
       "      <td>ACMR</td>\n",
       "      <td>ACM Research, Inc.</td>\n",
       "      <td>5.90</td>\n",
       "      <td>$8,916</td>\n",
       "      <td>n/a</td>\n",
       "      <td>2017</td>\n",
       "      <td>Technology</td>\n",
       "      <td>Industrial Machinery/Components</td>\n",
       "    </tr>\n",
       "    <tr>\n",
       "      <th>1</th>\n",
       "      <td>ALTR</td>\n",
       "      <td>Altair Engineering Inc.</td>\n",
       "      <td>22.20</td>\n",
       "      <td>$139,644</td>\n",
       "      <td>n/a</td>\n",
       "      <td>2017</td>\n",
       "      <td>Technology</td>\n",
       "      <td>Computer Software: Prepackaged Software</td>\n",
       "    </tr>\n",
       "    <tr>\n",
       "      <th>3</th>\n",
       "      <td>AYX</td>\n",
       "      <td>Alteryx, Inc.</td>\n",
       "      <td>26.83</td>\n",
       "      <td>$158,743</td>\n",
       "      <td>n/a</td>\n",
       "      <td>2017</td>\n",
       "      <td>Technology</td>\n",
       "      <td>Computer Software: Prepackaged Software</td>\n",
       "    </tr>\n",
       "    <tr>\n",
       "      <th>4</th>\n",
       "      <td>APPN</td>\n",
       "      <td>Appian Corporation</td>\n",
       "      <td>20.76</td>\n",
       "      <td>$125,190</td>\n",
       "      <td>n/a</td>\n",
       "      <td>2017</td>\n",
       "      <td>Technology</td>\n",
       "      <td>Computer Software: Prepackaged Software</td>\n",
       "    </tr>\n",
       "    <tr>\n",
       "      <th>5</th>\n",
       "      <td>AQ</td>\n",
       "      <td>Aquantia Corp.</td>\n",
       "      <td>11.22</td>\n",
       "      <td>$36,264</td>\n",
       "      <td>n/a</td>\n",
       "      <td>2017</td>\n",
       "      <td>Technology</td>\n",
       "      <td>Semiconductors</td>\n",
       "    </tr>\n",
       "  </tbody>\n",
       "</table>\n",
       "</div>"
      ],
      "text/plain": [
       "  Symbol                     Name  LastSale MarketCap ADR TSO IPOyear  \\\n",
       "0   ACMR       ACM Research, Inc.      5.90    $8,916     n/a    2017   \n",
       "1   ALTR  Altair Engineering Inc.     22.20  $139,644     n/a    2017   \n",
       "3    AYX            Alteryx, Inc.     26.83  $158,743     n/a    2017   \n",
       "4   APPN       Appian Corporation     20.76  $125,190     n/a    2017   \n",
       "5     AQ           Aquantia Corp.     11.22   $36,264     n/a    2017   \n",
       "\n",
       "       Sector                                 Industry  \n",
       "0  Technology          Industrial Machinery/Components  \n",
       "1  Technology  Computer Software: Prepackaged Software  \n",
       "3  Technology  Computer Software: Prepackaged Software  \n",
       "4  Technology  Computer Software: Prepackaged Software  \n",
       "5  Technology                           Semiconductors  "
      ]
     },
     "execution_count": 13,
     "metadata": {},
     "output_type": "execute_result"
    }
   ],
   "source": [
    "stocks.head()"
   ]
  },
  {
   "cell_type": "code",
   "execution_count": 11,
   "metadata": {},
   "outputs": [],
   "source": [
    "# for row in stocksnum2k[\"Symbol\"]:\n",
    "#save_quote('MSFT','20000101', '20171208')\n"
   ]
  },
  {
   "cell_type": "code",
   "execution_count": null,
   "metadata": {
    "collapsed": true
   },
   "outputs": [],
   "source": []
  }
 ],
 "metadata": {
  "kernelspec": {
   "display_name": "Python [default]",
   "language": "python",
   "name": "python3"
  },
  "language_info": {
   "codemirror_mode": {
    "name": "ipython",
    "version": 3
   },
   "file_extension": ".py",
   "mimetype": "text/x-python",
   "name": "python",
   "nbconvert_exporter": "python",
   "pygments_lexer": "ipython3",
   "version": "3.6.1"
  }
 },
 "nbformat": 4,
 "nbformat_minor": 2
}
