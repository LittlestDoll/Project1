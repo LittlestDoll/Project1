{
 "cells": [
  {
   "cell_type": "markdown",
   "metadata": {},
   "source": [
    "# Team Unicorn\n",
    "\n",
    "![](http://www.levycreative.com/wp/wp-content/uploads/2015/01/10945748_10152844879967949_5392963414676228818_n.jpg)\n",
    "## Members\n",
    "* Jackie Mcguire\n",
    "* Todd Fox\n",
    "* Jericho Herrera\n",
    "* Nicki Lang"
   ]
  },
  {
   "cell_type": "code",
   "execution_count": 72,
   "metadata": {
    "collapsed": true
   },
   "outputs": [],
   "source": [
    "import pandas as pd\n"
   ]
  },
  {
   "cell_type": "code",
   "execution_count": 73,
   "metadata": {
    "collapsed": true
   },
   "outputs": [],
   "source": [
    "stocks = pd.read_csv('techiposince2001.csv')\n"
   ]
  },
  {
   "cell_type": "code",
   "execution_count": 74,
   "metadata": {},
   "outputs": [
    {
     "data": {
      "text/plain": [
       "Symbol        object\n",
       "Name          object\n",
       "LastSale     float64\n",
       "MarketCap    float64\n",
       "ADR TSO       object\n",
       "IPOyear       object\n",
       "Sector        object\n",
       "Industry      object\n",
       "dtype: object"
      ]
     },
     "execution_count": 74,
     "metadata": {},
     "output_type": "execute_result"
    }
   ],
   "source": [
    "stocks.dtypes"
   ]
  },
  {
   "cell_type": "code",
   "execution_count": 75,
   "metadata": {
    "collapsed": true
   },
   "outputs": [],
   "source": [
    "stocks = stocks.loc[stocks['ADR TSO'] == 'n/a']\n"
   ]
  },
  {
   "cell_type": "code",
   "execution_count": 76,
   "metadata": {},
   "outputs": [],
   "source": [
    "stocks.MarketCap = stocks.MarketCap.apply(lambda x: round(x/10000))\n",
    "stocks.MarketCap = stocks.MarketCap.apply(lambda y: '${:,.0f}'.format(y))"
   ]
  },
  {
   "cell_type": "code",
   "execution_count": 77,
   "metadata": {},
   "outputs": [
    {
     "data": {
      "text/html": [
       "<div>\n",
       "<style>\n",
       "    .dataframe thead tr:only-child th {\n",
       "        text-align: right;\n",
       "    }\n",
       "\n",
       "    .dataframe thead th {\n",
       "        text-align: left;\n",
       "    }\n",
       "\n",
       "    .dataframe tbody tr th {\n",
       "        vertical-align: top;\n",
       "    }\n",
       "</style>\n",
       "<table border=\"1\" class=\"dataframe\">\n",
       "  <thead>\n",
       "    <tr style=\"text-align: right;\">\n",
       "      <th></th>\n",
       "      <th>Symbol</th>\n",
       "      <th>Name</th>\n",
       "      <th>LastSale</th>\n",
       "      <th>MarketCap</th>\n",
       "      <th>ADR TSO</th>\n",
       "      <th>IPOyear</th>\n",
       "      <th>Sector</th>\n",
       "      <th>Industry</th>\n",
       "    </tr>\n",
       "  </thead>\n",
       "  <tbody>\n",
       "    <tr>\n",
       "      <th>0</th>\n",
       "      <td>AABA</td>\n",
       "      <td>Altaba Inc.</td>\n",
       "      <td>70.22</td>\n",
       "      <td>$6,132,861</td>\n",
       "      <td>n/a</td>\n",
       "      <td>n/a</td>\n",
       "      <td>Technology</td>\n",
       "      <td>EDP Services</td>\n",
       "    </tr>\n",
       "    <tr>\n",
       "      <th>1</th>\n",
       "      <td>AAN</td>\n",
       "      <td>Aaron&amp;#39;s,  Inc.</td>\n",
       "      <td>38.43</td>\n",
       "      <td>$278,918</td>\n",
       "      <td>n/a</td>\n",
       "      <td>n/a</td>\n",
       "      <td>Technology</td>\n",
       "      <td>Diversified Commercial Services</td>\n",
       "    </tr>\n",
       "    <tr>\n",
       "      <th>2</th>\n",
       "      <td>AAOI</td>\n",
       "      <td>Applied Optoelectronics, Inc.</td>\n",
       "      <td>38.84</td>\n",
       "      <td>$75,280</td>\n",
       "      <td>n/a</td>\n",
       "      <td>2013</td>\n",
       "      <td>Technology</td>\n",
       "      <td>Semiconductors</td>\n",
       "    </tr>\n",
       "    <tr>\n",
       "      <th>3</th>\n",
       "      <td>ACIA</td>\n",
       "      <td>Acacia Communications, Inc.</td>\n",
       "      <td>40.26</td>\n",
       "      <td>$158,533</td>\n",
       "      <td>n/a</td>\n",
       "      <td>2016</td>\n",
       "      <td>Technology</td>\n",
       "      <td>Semiconductors</td>\n",
       "    </tr>\n",
       "    <tr>\n",
       "      <th>4</th>\n",
       "      <td>ACIW</td>\n",
       "      <td>ACI Worldwide, Inc.</td>\n",
       "      <td>22.48</td>\n",
       "      <td>$266,566</td>\n",
       "      <td>n/a</td>\n",
       "      <td>n/a</td>\n",
       "      <td>Technology</td>\n",
       "      <td>Computer Software: Prepackaged Software</td>\n",
       "    </tr>\n",
       "  </tbody>\n",
       "</table>\n",
       "</div>"
      ],
      "text/plain": [
       "  Symbol                           Name  LastSale   MarketCap ADR TSO IPOyear  \\\n",
       "0   AABA                    Altaba Inc.     70.22  $6,132,861     n/a     n/a   \n",
       "1    AAN             Aaron&#39;s,  Inc.     38.43    $278,918     n/a     n/a   \n",
       "2   AAOI  Applied Optoelectronics, Inc.     38.84     $75,280     n/a    2013   \n",
       "3   ACIA    Acacia Communications, Inc.     40.26    $158,533     n/a    2016   \n",
       "4   ACIW            ACI Worldwide, Inc.     22.48    $266,566     n/a     n/a   \n",
       "\n",
       "       Sector                                 Industry  \n",
       "0  Technology                             EDP Services  \n",
       "1  Technology          Diversified Commercial Services  \n",
       "2  Technology                           Semiconductors  \n",
       "3  Technology                           Semiconductors  \n",
       "4  Technology  Computer Software: Prepackaged Software  "
      ]
     },
     "execution_count": 77,
     "metadata": {},
     "output_type": "execute_result"
    }
   ],
   "source": [
    "stocks.head()"
   ]
  },
  {
   "cell_type": "code",
   "execution_count": null,
   "metadata": {},
   "outputs": [],
   "source": []
  },
  {
   "cell_type": "code",
   "execution_count": null,
   "metadata": {
    "collapsed": true
   },
   "outputs": [],
   "source": []
  }
 ],
 "metadata": {
  "kernelspec": {
   "display_name": "Python [conda env:PythonData]",
   "language": "python",
   "name": "conda-env-PythonData-py"
  },
  "language_info": {
   "codemirror_mode": {
    "name": "ipython",
    "version": 3
   },
   "file_extension": ".py",
   "mimetype": "text/x-python",
   "name": "python",
   "nbconvert_exporter": "python",
   "pygments_lexer": "ipython3",
   "version": "3.6.1"
  }
 },
 "nbformat": 4,
 "nbformat_minor": 2
}
