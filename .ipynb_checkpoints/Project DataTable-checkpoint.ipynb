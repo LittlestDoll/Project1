{
 "cells": [
  {
   "cell_type": "markdown",
   "metadata": {},
   "source": [
    "# Team Unicorn\n",
    "\n",
    "![](http://www.levycreative.com/wp/wp-content/uploads/2015/01/10945748_10152844879967949_5392963414676228818_n.jpg)\n",
    "## Members\n",
    "* Jackie Mcguire\n",
    "* Todd Fox\n",
    "* Jericho Herrera\n",
    "* Nicki Lang"
   ]
  },
  {
   "cell_type": "code",
   "execution_count": null,
   "metadata": {
    "collapsed": true
   },
   "outputs": [],
   "source": [
    "import matplotlib.pyplot as plt\n",
    "import numpy\n",
    "import pandas as pd\n",
    "from yahoo_quote_download import yqd\n",
    "import os\n",
    "import datetime\n"
   ]
  },
  {
   "cell_type": "code",
   "execution_count": null,
   "metadata": {},
   "outputs": [],
   "source": [
    "stocks = pd.read_csv('techiposince2001.csv')\n",
    "stocks.columns"
   ]
  },
  {
   "cell_type": "code",
   "execution_count": null,
   "metadata": {},
   "outputs": [],
   "source": [
    "stocks.dtypes"
   ]
  },
  {
   "cell_type": "code",
   "execution_count": null,
   "metadata": {
    "collapsed": true
   },
   "outputs": [],
   "source": [
    "stocks = stocks.loc[stocks['ADR TSO'] == 'n/a']"
   ]
  },
  {
   "cell_type": "code",
   "execution_count": null,
   "metadata": {
    "collapsed": true
   },
   "outputs": [],
   "source": [
    "stocks.MarketCap = stocks.MarketCap.apply(lambda x: round(x/10000))\n",
    "stocks.MarketCap = stocks.MarketCap.apply(lambda y: '${:,.0f}'.format(y))"
   ]
  },
  {
   "cell_type": "code",
   "execution_count": null,
   "metadata": {},
   "outputs": [],
   "source": [
    "stocks=stocks.loc[stocks[\"IPOyear\"]!='n/a']\n",
    "stocks=stocks.loc[stocks[\"IPOyear\"].astype(int)>=2000]\n",
    "stocks.head()\n",
    "stocks_sort = stocks.drop(['ADR TSO', 'LastSale', 'Sector'], axis=1)\n",
    "stocks_sort"
   ]
  },
  {
   "cell_type": "code",
   "execution_count": null,
   "metadata": {
    "collapsed": true
   },
   "outputs": [],
   "source": [
    "def load_quote(ticker, startdate, enddate):\n",
    "\tprint('===', ticker, '===')\n",
    "\tprint(yqd.load_yahoo_quote(ticker, startdate, enddate))\n",
    "\tprint(yqd.load_yahoo_quote(ticker, startdate, enddate, 'dividend'))\n",
    "\tprint(yqd.load_yahoo_quote(ticker, startdate, enddate, 'split'))\n",
    "def save_quote(ticker, startdate, enddate, filename):\n",
    "    quotecsv = (yqd.load_yahoo_quote(ticker, startdate, enddate))\n",
    "    with open(filename, 'a') as myfile:\n",
    "        header=True\n",
    "        for row in quotecsv:\n",
    "            if header == True:\n",
    "                myfile.write(row+','+'Ticker'+'\\n')\n",
    "                header=False\n",
    "            else:\n",
    "                myfile.write(row+','+ticker+'\\n')\n",
    "            \n",
    "def test():\n",
    "\t# Download quote for stocks\n",
    "\tload_quote(ticker, startdate, enddate)\n"
   ]
  },
  {
   "cell_type": "code",
   "execution_count": null,
   "metadata": {
    "collapsed": true
   },
   "outputs": [],
   "source": [
    "for row, year in zip(stocks[\"Ticker\"],stocks[\"IPOyear\"]):\n",
    "    try:\n",
    "        save_quote(row, str(year)+'0101', str(year)+'1231', 'firstyeardata.csv')\n",
    "    except:\n",
    "        pass\n"
   ]
  },
  {
   "cell_type": "code",
   "execution_count": null,
   "metadata": {},
   "outputs": [],
   "source": [
    "firstyear_df = pd.read_csv('firstyeardata.csv')\n",
    "firstyear_df[\"Date\"] = pd.to_datetime(firstyear_df[\"Date\"], errors='coerce')\n",
    "def format_epoch(dt):\n",
    "    return (dt - datetime.datetime(1970,1,1)).total_seconds()\n",
    "def format_date(sec):\n",
    "    try:\n",
    "        return datetime.datetime.fromtimestamp(sec).strftime('%D')\n",
    "    except:\n",
    "        return None\n",
    "firstyear_df[\"Date\"] = firstyear_df[\"Date\"].apply(format_epoch)\n",
    "firstyear_df\n",
    "\n",
    "IPOdate_df=firstyear_df.loc[firstyear_df.groupby(\"Ticker\")['Date'].idxmin()]\n",
    "IPOdate_df[\"Date\"] = IPOdate_df[\"Date\"].apply(format_date)\n",
    "IPOdate_df\n",
    "merged_df = pd.merge(stocks_sort, IPOdate_df, on='Ticker', how='outer')\n",
    "merged_df[\"Date\"] = pd.to_datetime(merged_df[\"Date\"], infer_datetime_format=True)\n",
    "merged_df['1yrbeg']=merged_df[\"Date\"].apply(lambda x: x+pd.DateOffset(years=1))\n",
    "merged_df['1yrend']=merged_df[\"Date\"].apply(lambda x: x+pd.DateOffset(years=1, days=3))\n",
    "merged_df['3yrbeg']=merged_df[\"Date\"].apply(lambda x: x+pd.DateOffset(years=3))\n",
    "merged_df['3yrend']=merged_df[\"Date\"].apply(lambda x: x+pd.DateOffset(years=3, days=3))\n",
    "merged_df['5yrbeg']=merged_df[\"Date\"].apply(lambda x: x+pd.DateOffset(years=5))\n",
    "merged_df['5yrend']=merged_df[\"Date\"].apply(lambda x: x+pd.DateOffset(years=5, days=3))"
   ]
  },
  {
   "cell_type": "code",
   "execution_count": null,
   "metadata": {},
   "outputs": [],
   "source": []
  },
  {
   "cell_type": "code",
   "execution_count": null,
   "metadata": {
    "collapsed": true
   },
   "outputs": [],
   "source": [
    "for row, begin, end in zip(merged_df[\"Ticker\"],(merged_df[\"1yrbeg\"]).replace(\"-\",\"\"), min((merged_df[\"1yrend\"]).replace(\"-\",\"\"), 20171211):\n",
    "        save_quote(row, begin, end, 'returndata.csv')"
   ]
  },
  {
   "cell_type": "code",
   "execution_count": null,
   "metadata": {
    "collapsed": true
   },
   "outputs": [],
   "source": []
  }
 ],
 "metadata": {
  "kernelspec": {
   "display_name": "Python 3",
   "language": "python",
   "name": "python3"
  },
  "language_info": {
   "codemirror_mode": {
    "name": "ipython",
    "version": 3
   },
   "file_extension": ".py",
   "mimetype": "text/x-python",
   "name": "python",
   "nbconvert_exporter": "python",
   "pygments_lexer": "ipython3",
   "version": "3.6.3"
  }
 },
 "nbformat": 4,
 "nbformat_minor": 2
}
