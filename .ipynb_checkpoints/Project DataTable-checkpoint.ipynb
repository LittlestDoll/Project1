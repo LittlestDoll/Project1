{
 "cells": [
  {
   "cell_type": "markdown",
   "metadata": {},
   "source": [
    "# Team Unicorn\n",
    "\n",
    "![](http://www.levycreative.com/wp/wp-content/uploads/2015/01/10945748_10152844879967949_5392963414676228818_n.jpg)\n",
    "## Members\n",
    "* Jackie Mcguire\n",
    "* Todd Fox\n",
    "* Jericho Herrera\n",
    "* Nicki Lang"
   ]
  },
  {
   "cell_type": "code",
   "execution_count": 75,
   "metadata": {
    "collapsed": true
   },
   "outputs": [],
   "source": [
    "import matplotlib.pyplot as plt\n",
    "import numpy\n",
    "import pandas as pd\n",
    "from yahoo_quote_download import yqd\n",
    "import os\n"
   ]
  },
  {
   "cell_type": "code",
   "execution_count": 76,
   "metadata": {
    "collapsed": true
   },
   "outputs": [],
   "source": [
    "stocks = pd.read_csv('techiposince2001.csv')\n"
   ]
  },
  {
   "cell_type": "code",
   "execution_count": 77,
   "metadata": {},
   "outputs": [
    {
     "data": {
      "text/plain": [
       "Symbol        object\n",
       "Name          object\n",
       "LastSale     float64\n",
       "MarketCap    float64\n",
       "ADR TSO       object\n",
       "IPOyear       object\n",
       "Sector        object\n",
       "Industry      object\n",
       "dtype: object"
      ]
     },
     "execution_count": 77,
     "metadata": {},
     "output_type": "execute_result"
    }
   ],
   "source": [
    "stocks.dtypes"
   ]
  },
  {
   "cell_type": "code",
   "execution_count": 78,
   "metadata": {},
   "outputs": [],
   "source": [
    "stocks = stocks.loc[stocks['ADR TSO'] == 'n/a']\n"
   ]
  },
  {
   "cell_type": "code",
   "execution_count": 79,
   "metadata": {},
   "outputs": [],
   "source": [
    "stocks.MarketCap = stocks.MarketCap.apply(lambda x: round(x/10000))\n",
    "stocks.MarketCap = stocks.MarketCap.apply(lambda y: '${:,.0f}'.format(y))"
   ]
  },
  {
   "cell_type": "code",
   "execution_count": 82,
   "metadata": {},
   "outputs": [],
   "source": [
    "stocks=stocks.loc[stocks[\"IPOyear\"]!='n/a']\n",
    "stocks=stocks.loc[stocks[\"IPOyear\"].astype(int)>=2000]"
   ]
  },
  {
   "cell_type": "code",
   "execution_count": 109,
   "metadata": {
    "collapsed": true
   },
   "outputs": [],
   "source": [
    "def load_quote(ticker, startdate, enddate):\n",
    "\tprint('===', ticker, '===')\n",
    "\tprint(yqd.load_yahoo_quote(ticker, startdate, enddate))\n",
    "\tprint(yqd.load_yahoo_quote(ticker, startdate, enddate, 'dividend'))\n",
    "\tprint(yqd.load_yahoo_quote(ticker, startdate, enddate, 'split'))\n",
    "def save_quote(ticker, startdate, enddate):\n",
    "    quotecsv = (yqd.load_yahoo_quote(ticker, startdate, enddate))\n",
    "    with open('output.csv', 'a') as myfile:\n",
    "        for row in quotecsv:\n",
    "            myfile.write(row+','+ticker+'\\n')\n",
    "            \n",
    "            \n",
    "def test():\n",
    "\t# Download quote for stocks\n",
    "\tload_quote(ticker, startdate, enddate)\n"
   ]
  },
  {
   "cell_type": "code",
   "execution_count": 110,
   "metadata": {
    "collapsed": true
   },
   "outputs": [],
   "source": [
    "# for row in stocksnum2k[\"Symbol\"]:\n",
    "save_quote('MSFT','20000101', '20171208')\n"
   ]
  },
  {
   "cell_type": "code",
   "execution_count": null,
   "metadata": {
    "collapsed": true
   },
   "outputs": [],
   "source": []
  },
  {
   "cell_type": "code",
   "execution_count": null,
   "metadata": {
    "collapsed": true
   },
   "outputs": [],
   "source": []
  }
 ],
 "metadata": {
  "kernelspec": {
   "display_name": "Python 3",
   "language": "python",
   "name": "python3"
  },
  "language_info": {
   "codemirror_mode": {
    "name": "ipython",
    "version": 3
   },
   "file_extension": ".py",
   "mimetype": "text/x-python",
   "name": "python",
   "nbconvert_exporter": "python",
   "pygments_lexer": "ipython3",
   "version": "3.6.3"
  }
 },
 "nbformat": 4,
 "nbformat_minor": 2
}
